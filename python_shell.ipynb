{
 "cells": [
  {
   "cell_type": "code",
   "execution_count": 4,
   "metadata": {},
   "outputs": [],
   "source": [
    "#!/usr/bin/env python3\n",
    "import os"
   ]
  },
  {
   "cell_type": "code",
   "execution_count": 5,
   "metadata": {},
   "outputs": [],
   "source": [
    "def python_shell():\n",
    "    env = os.environ\n",
    "    shell = 'shell'\n",
    "    program = os.path.basename(env['_'])\n",
    "    if 'jupyter-notebook' in program:\n",
    "        shell = 'jupyter-notebook'\n",
    "    elif 'ipython' in program:\n",
    "        shell = \"ipython\"\n",
    "    elif 'JPY_PARENT_PID' in env:\n",
    "        shell = 'ipython-notebook'\n",
    "    return shell"
   ]
  },
  {
   "cell_type": "code",
   "execution_count": 6,
   "metadata": {},
   "outputs": [
    {
     "name": "stdout",
     "output_type": "stream",
     "text": [
      "The type of python shell you are using is:  jupyter-notebook .\n"
     ]
    }
   ],
   "source": [
    "print(\"The type of python shell you are using is: \",python_shell(),\".\")"
   ]
  },
  {
   "cell_type": "code",
   "execution_count": null,
   "metadata": {},
   "outputs": [],
   "source": []
  }
 ],
 "metadata": {
  "kernelspec": {
   "display_name": "Python 3",
   "language": "python",
   "name": "python3"
  },
  "language_info": {
   "codemirror_mode": {
    "name": "ipython",
    "version": 3
   },
   "file_extension": ".py",
   "mimetype": "text/x-python",
   "name": "python",
   "nbconvert_exporter": "python",
   "pygments_lexer": "ipython3",
   "version": "3.7.1"
  }
 },
 "nbformat": 4,
 "nbformat_minor": 2
}
